{
 "cells": [
  {
   "cell_type": "markdown",
   "id": "810bc29c",
   "metadata": {},
   "source": [
    "# FS DISK 1: Constants"
   ]
  },
  {
   "cell_type": "code",
   "execution_count": 18,
   "id": "5438c1b8",
   "metadata": {},
   "outputs": [],
   "source": [
    "blocksize = 1024\n",
    "blocks_per_group = 8192\n",
    "inodes_per_group = 1832\n",
    "inode_size = 128\n",
    "bootsector = 1024\n",
    "superblock_size = 1024\n",
    "block_group_descriptor_size = 1024\n",
    "block_bitmap_size = 1024\n",
    "inode_bitmap_size = 1024\n",
    "number_of_groups = 7\n",
    "inode_table_size = inode_size*inodes_per_group"
   ]
  },
  {
   "cell_type": "markdown",
   "id": "4b6a7fe1",
   "metadata": {},
   "source": [
    "# Positions of Blocks of Interest"
   ]
  },
  {
   "cell_type": "code",
   "execution_count": 5,
   "id": "6d9decb0",
   "metadata": {},
   "outputs": [],
   "source": [
    "def superblock_positions(i):\n",
    "    return hex(bootsector\n",
    "               +(i-1)*blocks_per_group*blocksize)\n",
    "\n",
    "def blockGroupDescriptor_positions(i):\n",
    "    return hex(bootsector\n",
    "               +(i-1)*blocks_per_group*blocksize\n",
    "               +superblock_size)\n",
    "\n",
    "def blockBitMap_positions(i):\n",
    "    return hex(bootsector\n",
    "               +(i-1)*blocks_per_group*blocksize\n",
    "               +superblock_size\n",
    "               +block_group_descriptor_size)\n",
    "\n",
    "def inodeBitMap_positions(i):\n",
    "    return hex(bootsector\n",
    "               +(i-1)*blocks_per_group*blocksize\n",
    "               +superblock_size\n",
    "               +block_group_descriptor_size\n",
    "               + block_bitmap_size)\n",
    "\n",
    "def inodeTable_positions(i):\n",
    "    return hex(bootsector\n",
    "               +(i-1)*blocks_per_group*blocksize\n",
    "               +superblock_size\n",
    "               +block_group_descriptor_size\n",
    "               +block_bitmap_size\n",
    "               +inode_bitmap_size)\n",
    "\n",
    "def datablock_positions(i):\n",
    "    return hex(bootsector\n",
    "               +(i-1)*blocks_per_group*blocksize\n",
    "               +superblock_size\n",
    "               +block_group_descriptor_size\n",
    "               +block_bitmap_size\n",
    "               +inode_bitmap_size\n",
    "               +inode_table_size)"
   ]
  },
  {
   "cell_type": "markdown",
   "id": "4bc4d5d3",
   "metadata": {},
   "source": [
    "# Functions for inode searching"
   ]
  },
  {
   "cell_type": "code",
   "execution_count": 16,
   "id": "2482e628",
   "metadata": {},
   "outputs": [],
   "source": [
    "def block_group_of_inode(inode):\n",
    "    return (inode-1)//inodes_per_group\n",
    "\n",
    "def index_of_inode(inode):\n",
    "    return (inode-1)%inodes_per_group\n",
    "\n",
    "def containing_block_of_inode(inode):\n",
    "    return (index_of_inode(inode)*inode_size)//blocksize"
   ]
  },
  {
   "cell_type": "markdown",
   "id": "2c831d17",
   "metadata": {},
   "source": [
    "## Finding all blocks of interest"
   ]
  },
  {
   "cell_type": "code",
   "execution_count": 8,
   "id": "7eb46e5e",
   "metadata": {},
   "outputs": [],
   "source": [
    "supers = [superblock_positions(i+1) for i in range(number_of_groups)]\n",
    "bgds = [blockGroupDescriptor_positions(i+1) for i in range(number_of_groups)]\n",
    "bbms = [blockBitMap_positions(i+1) for i in range(number_of_groups)]\n",
    "ibms = [inodeBitMap_positions(i+1) for i in range(number_of_groups)]\n",
    "its= [inodeTable_positions(i+1) for i in range(number_of_groups)]\n",
    "dbs = [datablock_positions(i+1) for i in range(number_of_groups)]"
   ]
  },
  {
   "cell_type": "markdown",
   "id": "4ca0eda2",
   "metadata": {},
   "source": [
    "## Printing blocks of interest for easy navigation"
   ]
  },
  {
   "cell_type": "code",
   "execution_count": 85,
   "id": "702b0a9e",
   "metadata": {
    "scrolled": false
   },
   "outputs": [
    {
     "name": "stdout",
     "output_type": "stream",
     "text": [
      "Group 0\n",
      "Superblock in position 0x400\n",
      "Block Group Descriptor in position 0x800\n",
      "Block Bitmap in position 0xc00\n",
      "Inode Bitmap in position 0x1000\n",
      "Inode Table in position 0x1400\n",
      "Data Blocks in position 0x3a800\n",
      "====================================\n",
      "Group 1\n",
      "Superblock in position 0x800400\n",
      "Block Group Descriptor in position 0x800800\n",
      "Block Bitmap in position 0x800c00\n",
      "Inode Bitmap in position 0x801000\n",
      "Inode Table in position 0x801400\n",
      "Data Blocks in position 0x83a800\n",
      "====================================\n",
      "Group 2\n",
      "Superblock in position 0x1000400\n",
      "Block Group Descriptor in position 0x1000800\n",
      "Block Bitmap in position 0x1000c00\n",
      "Inode Bitmap in position 0x1001000\n",
      "Inode Table in position 0x1001400\n",
      "Data Blocks in position 0x103a800\n",
      "====================================\n",
      "Group 3\n",
      "Superblock in position 0x1800400\n",
      "Block Group Descriptor in position 0x1800800\n",
      "Block Bitmap in position 0x1800c00\n",
      "Inode Bitmap in position 0x1801000\n",
      "Inode Table in position 0x1801400\n",
      "Data Blocks in position 0x183a800\n",
      "====================================\n",
      "Group 4\n",
      "Superblock in position 0x2000400\n",
      "Block Group Descriptor in position 0x2000800\n",
      "Block Bitmap in position 0x2000c00\n",
      "Inode Bitmap in position 0x2001000\n",
      "Inode Table in position 0x2001400\n",
      "Data Blocks in position 0x203a800\n",
      "====================================\n",
      "Group 5\n",
      "Superblock in position 0x2800400\n",
      "Block Group Descriptor in position 0x2800800\n",
      "Block Bitmap in position 0x2800c00\n",
      "Inode Bitmap in position 0x2801000\n",
      "Inode Table in position 0x2801400\n",
      "Data Blocks in position 0x283a800\n",
      "====================================\n",
      "Group 6\n",
      "Superblock in position 0x3000400\n",
      "Block Group Descriptor in position 0x3000800\n",
      "Block Bitmap in position 0x3000c00\n",
      "Inode Bitmap in position 0x3001000\n",
      "Inode Table in position 0x3001400\n",
      "Data Blocks in position 0x303a800\n",
      "====================================\n"
     ]
    }
   ],
   "source": [
    "for index,superblock in enumerate(supers):\n",
    "    print(f'Group {index}')\n",
    "    print(f'Superblock in position {superblock}')\n",
    "    print(f'Block Group Descriptor in position {bgds[index]}')\n",
    "    print(f'Block Bitmap in position {bbms[index]}')\n",
    "    print(f'Inode Bitmap in position {ibms[index]}')\n",
    "    print(f'Inode Table in position {its[index]}')\n",
    "    print(f'Data Blocks in position {bds[index]}')\n",
    "    print('====================================')        "
   ]
  },
  {
   "cell_type": "markdown",
   "id": "74354af7",
   "metadata": {},
   "source": [
    "# FS DISK 3: Constants:"
   ]
  },
  {
   "cell_type": "code",
   "execution_count": 9,
   "id": "d5e54b08",
   "metadata": {},
   "outputs": [],
   "source": [
    "blocksize = 1024\n",
    "blocks_per_group = 8192\n",
    "inodes_per_group = 1712\n",
    "inode_size = 128\n",
    "bootsector = 1024\n",
    "superblock_size = 1024\n",
    "block_group_descriptor_size = 1024\n",
    "block_bitmap_size = 1024\n",
    "inode_bitmap_size = 1024\n",
    "number_of_groups = 3\n",
    "inode_table_size = inode_size*inodes_per_group"
   ]
  },
  {
   "cell_type": "markdown",
   "id": "35f2f17c",
   "metadata": {},
   "source": [
    "## Finding all blocks of interest"
   ]
  },
  {
   "cell_type": "code",
   "execution_count": 10,
   "id": "a9009af6",
   "metadata": {},
   "outputs": [],
   "source": [
    "supers3 = [superblock_positions(i+1) for i in range(number_of_groups)]\n",
    "bgds3 = [blockGroupDescriptor_positions(i+1) for i in range(number_of_groups)]\n",
    "bbms3 = [blockBitMap_positions(i+1) for i in range(number_of_groups)]\n",
    "ibms3 = [inodeBitMap_positions(i+1) for i in range(number_of_groups)]\n",
    "its3 = [inodeTable_positions(i+1) for i in range(number_of_groups)]\n",
    "dbs3 = [datablock_positions(i+1) for i in range(number_of_groups)]"
   ]
  },
  {
   "cell_type": "markdown",
   "id": "440331d3",
   "metadata": {},
   "source": [
    "## Printing blocks of interest for easy navigation"
   ]
  },
  {
   "cell_type": "code",
   "execution_count": 13,
   "id": "04bfe2b0",
   "metadata": {},
   "outputs": [
    {
     "name": "stdout",
     "output_type": "stream",
     "text": [
      "Group 0\n",
      "Superblock in position 0x400\n",
      "Block Group Descriptor in position 0x800\n",
      "Block Bitmap in position 0xc00\n",
      "Inode Bitmap in position 0x1000\n",
      "Inode Table in position 0x1400\n",
      "Data Blocks in position 0x36c00\n",
      "====================================\n",
      "Group 1\n",
      "Superblock in position 0x800400\n",
      "Block Group Descriptor in position 0x800800\n",
      "Block Bitmap in position 0x800c00\n",
      "Inode Bitmap in position 0x801000\n",
      "Inode Table in position 0x801400\n",
      "Data Blocks in position 0x836c00\n",
      "====================================\n",
      "Group 2\n",
      "Superblock in position 0x1000400\n",
      "Block Group Descriptor in position 0x1000800\n",
      "Block Bitmap in position 0x1000c00\n",
      "Inode Bitmap in position 0x1001000\n",
      "Inode Table in position 0x1001400\n",
      "Data Blocks in position 0x1036c00\n",
      "====================================\n"
     ]
    }
   ],
   "source": [
    "for index,superblock in enumerate(supers3):\n",
    "    print(f'Group {index}')\n",
    "    print(f'Superblock in position {superblock}')\n",
    "    print(f'Block Group Descriptor in position {bgds3[index]}')\n",
    "    print(f'Block Bitmap in position {bbms3[index]}')\n",
    "    print(f'Inode Bitmap in position {ibms3[index]}')\n",
    "    print(f'Inode Table in position {its3[index]}')\n",
    "    print(f'Data Blocks in position {dbs3[index]}')\n",
    "    print('====================================')        "
   ]
  }
 ],
 "metadata": {
  "kernelspec": {
   "display_name": "Python 3 (ipykernel)",
   "language": "python",
   "name": "python3"
  },
  "language_info": {
   "codemirror_mode": {
    "name": "ipython",
    "version": 3
   },
   "file_extension": ".py",
   "mimetype": "text/x-python",
   "name": "python",
   "nbconvert_exporter": "python",
   "pygments_lexer": "ipython3",
   "version": "3.9.13"
  }
 },
 "nbformat": 4,
 "nbformat_minor": 5
}
